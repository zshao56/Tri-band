{
 "cells": [
  {
   "cell_type": "code",
   "source": [
    "import matplotlib.pylab as plt\n",
    "import numpy as np\n",
    "\n",
    "import tidy3d as td"
   ],
   "metadata": {
    "collapsed": false
   },
   "id": "initial_id",
   "outputs": [],
   "execution_count": null
  },
  {
   "cell_type": "code",
   "source": [
    "from tidy3d.plugins.dispersion import FastDispersionFitter, AdvancedFastFitterParam\n",
    "\n",
    "material = \"WO3-bleach\"\n",
    "fname = material + \".csv\"\n",
    "\n",
    "# note that additional keyword arguments to load_nk_file get passed to np.loadtxt\n",
    "fitter = FastDispersionFitter.from_file(fname, skiprows=1, delimiter=\",\", encoding=\"utf-8\")\n",
    "\n",
    "# lets plot the data\n",
    "fitter.plot()\n",
    "plt.show()"
   ],
   "metadata": {
    "collapsed": false
   },
   "id": "4ccc940d5c068d31",
   "outputs": [],
   "execution_count": null
  },
  {
   "cell_type": "code",
   "source": [
    "advanced_param = AdvancedFastFitterParam(weights=(1,0.5))\n",
    "medium, rms_error = fitter.fit(max_num_poles=5, advanced_param=advanced_param, tolerance_rms=2e-2)\n",
    "fitter = fitter.copy(update={\"wvl_range\": (2, 20)})\n",
    "fitter.plot(medium)\n",
    "plt.show()\n"
   ],
   "metadata": {
    "collapsed": false
   },
   "id": "a486ca278bc89e9a",
   "outputs": [],
   "execution_count": null
  },
  {
   "cell_type": "code",
   "source": [
    "# save poles to pole_data.txt\n",
    "fname1 = material + \".json\"\n",
    "medium.to_file(fname1)\n",
    "\n",
    "# load the file in your script\n",
    "medium = td.PoleResidue.from_file(fname1)\n"
   ],
   "metadata": {
    "collapsed": false
   },
   "id": "d35b2b65095cd019",
   "outputs": [],
   "execution_count": null
  },
  {
   "cell_type": "code",
   "source": [],
   "metadata": {
    "collapsed": false
   },
   "id": "3053684b0de2fda8",
   "outputs": [],
   "execution_count": null
  },
  {
   "cell_type": "code",
   "source": [],
   "metadata": {
    "collapsed": false
   },
   "id": "fa6186d88a381839",
   "outputs": [],
   "execution_count": null
  }
 ],
 "metadata": {
  "kernelspec": {
   "display_name": "Python 3",
   "language": "python",
   "name": "python3"
  },
  "language_info": {
   "codemirror_mode": {
    "name": "ipython",
    "version": 2
   },
   "file_extension": ".py",
   "mimetype": "text/x-python",
   "name": "python",
   "nbconvert_exporter": "python",
   "pygments_lexer": "ipython2",
   "version": "2.7.6"
  }
 },
 "nbformat": 4,
 "nbformat_minor": 5
}
